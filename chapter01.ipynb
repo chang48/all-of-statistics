{
 "cells": [
  {
   "cell_type": "markdown",
   "id": "fb14b667",
   "metadata": {},
   "source": [
    "$\\newcommand{\\prob}[1]{{\\cal P}\\left({#1}\\right)}$"
   ]
  },
  {
   "cell_type": "markdown",
   "id": "cff8022b",
   "metadata": {},
   "source": [
    "### Exercise 1.1\n",
    "\n",
    "Firstly, since $A_n$ is monotone increasing $A_1\\subset A_2\\subset \\ldots$, by construction\n",
    "$B_i = A_i - A_{i-1}$. Without losing generality, let's assume that there exists an $\\omega$ such that\n",
    "$\\omega\\in B_i\\cap B_j$ for $i < j$. This means\n",
    "$$ \\omega \\in B_i \\,\\,\\,\\,\\,\\mbox{and}\\,\\,\\,\\,\\, \\omega \\in B_j$$\n",
    "\n",
    "The conditions imply $\\omega\\in A_i$, $\\omega\\notin A_{i-1}$ and $\\omega\\in A_j$, $\\omega\\notin A_{j-1}$.\n",
    "Since $A_i\\subset A_{j-1}$, no such $\\omega$ can exist. Therefore $B_i\\cap B_j = \\emptyset$.\n",
    "\n",
    "To show that $A_n = \\bigcup_{i=1}^n A_i = \\bigcup_{i=1}^n B_i$, we first note that $B-A = B\\cap A^c$.\n",
    "Then it follows that\n",
    "\n",
    "$$ (B-A)\\cup C = (B\\cap A^c)\\cup C = C\\cup (B\\cap A^c)\n",
    "               = (C\\cup B)\\cap (C\\cup A^c). $$\n",
    "               \n",
    "Using this idendity, we can show\n",
    "\n",
    "$$ B_2\\cup B_1 = (A_2 - A_1)\\cup A_1 = (A_2\\cup A_1)\\cap(A_1\\cup A_1^c).$$\n",
    "\n",
    "Since $A_1\\cup A_1^c=\\Omega$ where $\\Omega$ is the sample space, it follows that\n",
    "\n",
    "$$ B_2\\cup B_1 = (A_2\\cup A_1)\\cap \\Omega = A_2\\cup A_1 = A_2.$$\n",
    "\n",
    "The last equality is due to the monotone increasing property of $A_i$'s. Now let's assume\n",
    "\n",
    "$$ B_{n-1}\\cup\\ldots\\cup B_1 = A_{n-1}\\cup\\ldots\\cup A_1 = A_{n-1},$$\n",
    "\n",
    "Then using the identiy above, we can easily demonstrate that\n",
    "\n",
    "$$ B_n\\cup\\ldots\\cup B_1 = B_n\\cup A_{n-1} = (A_n - A_{n-1})\\cup A_{n-1} = A_n.$$\n",
    "\n",
    "---"
   ]
  },
  {
   "cell_type": "markdown",
   "id": "6057e979",
   "metadata": {},
   "source": [
    "### Exercise 1.2\n",
    "* $A\\cap B=\\emptyset\\,\\,\\,\\,\\,\\Longrightarrow\\,\\,\\,\\,\\,\\prob{A\\cup B} = \\prob{A} + \\prob{B}$\n",
    "  \n",
    "  In axiom 3, let $A_3 = A_4 = \\ldots = \\emptyset$, it follows immediately that\n",
    "  \n",
    "  $$\\prob{A_1\\cup A_2} = \\prob{A_1} + \\prob{A_2}.$$\n",
    "  \n",
    "* $\\prob{\\emptyset}=0$\n",
    "\n",
    "  Because $\\emptyset\\cap\\emptyset = \\emptyset$ and $\\emptyset\\cup\\emptyset = \\emptyset$,\n",
    "  the previous property leads to\n",
    "  \n",
    "  $$\\prob{\\emptyset} = \\prob{\\emptyset\\cup\\emptyset} = \\prob{\\emptyset} + \\prob{\\emptyset} = 2\\prob{\\emptyset}$$\n",
    "  \n",
    "  Therefore $\\prob{\\emptyset}=0$.\n",
    "\n",
    "\n",
    "* $A\\subset B\\,\\,\\,\\,\\,\\Longrightarrow\\,\\,\\,\\,\\,\\prob{A} \\leq \\prob{B}$\n",
    "\n",
    "  Consider the set $B-A = \\left\\{\\omega|\\omega\\in B, \\omega\\notin A\\right\\}$, it follows that\n",
    "  \n",
    "  $$ A \\cap (B-A) = \\emptyset $$\n",
    "  \n",
    "  Thus\n",
    "  \n",
    "  $$ \\prob{A\\cup(B-A)} = \\prob{A} + \\prob{B-A} \\geq \\prob{A}.$$\n",
    "  \n",
    "  The last inequality is valid because by axiom 1: $\\prob{B-A} \\geq 0$. On the left hand side, we have\n",
    "  $\\prob{A\\cup(B-A)} = \\prob{B}$. As a result\n",
    "  \n",
    "  $$ \\prob{A} \\leq \\prob{B}.$$\n",
    "    \n",
    "* $0\\leq\\prob{A}\\leq 1$\n",
    "\n",
    "  Let $\\Omega$ be the sample space, then $A\\subset \\Omega$, which by the previous property implies that\n",
    "  $\\prob{A} \\leq\\prob{\\Omega}$. Then axiom 1 and 2 lead to the conclusion immediately:\n",
    "  \n",
    "  $$ 0\\leq\\prob{A}\\leq 1. $$\n",
    "  \n",
    "* $\\prob{A^c} =  1- \\prob{A}$\n",
    "  \n",
    "  By definition, $A\\cup A^c = \\Omega$ and $A\\cap A^c=\\emptyset$, therefore\n",
    "  \n",
    "  $$ 1 = \\prob{\\Omega} = \\prob{A} + \\prob{A^c}\\,\\,\\,\\,\\,\n",
    "     \\Longrightarrow\\,\\,\\,\\,\\, \\prob{A^c} = 1 - \\prob{A} $$\n",
    "\n",
    "---"
   ]
  },
  {
   "cell_type": "markdown",
   "id": "57025fc0",
   "metadata": {},
   "source": [
    "### Exercise 1.3\n",
    "\n",
    "* (a) By construction:\n",
    "  $$ B_n = A_n\\cup A_{n+1}\\cup A_{n+2}\\cup\\ldots = A_n \\cup B_{n+1}$$\n",
    "\n",
    "  Therefore $B_n \\supset B_{n+1}$. Likewise,\n",
    "  $$ C_n = A_n\\cap A_{n+1}\\cap A_{n+2}\\cap\\ldots = A_n\\cap C_{n+1} $$\n",
    "  \n",
    "  It follows that $C_n\\subset C_{n+1}$.\n",
    "  \n",
    "  "
   ]
  },
  {
   "cell_type": "code",
   "execution_count": null,
   "id": "e642f329",
   "metadata": {},
   "outputs": [],
   "source": []
  }
 ],
 "metadata": {
  "kernelspec": {
   "display_name": "Python 3 (ipykernel)",
   "language": "python",
   "name": "python3"
  },
  "language_info": {
   "codemirror_mode": {
    "name": "ipython",
    "version": 3
   },
   "file_extension": ".py",
   "mimetype": "text/x-python",
   "name": "python",
   "nbconvert_exporter": "python",
   "pygments_lexer": "ipython3",
   "version": "3.9.9"
  }
 },
 "nbformat": 4,
 "nbformat_minor": 5
}
